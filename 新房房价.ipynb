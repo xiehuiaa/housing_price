{
 "cells": [
  {
   "cell_type": "code",
   "execution_count": 1,
   "metadata": {},
   "outputs": [],
   "source": [
    "import pandas as pd\n",
    "import numpy as np\n",
    "import urllib.request\n",
    "import chardet\n",
    "import requests\n",
    "from bs4 import BeautifulSoup\n",
    "import bs4\n",
    "import re"
   ]
  },
  {
   "cell_type": "code",
   "execution_count": 2,
   "metadata": {},
   "outputs": [],
   "source": [
    "def pasre_hrml(url):\n",
    "    html = requests.get(url).text\n",
    "    # encode解码，将ISO-8859-1解码成unicode\n",
    "    html = html.encode(\"ISO-8859-1\")\n",
    "    # decode编码,将unicode编码成utf-8\n",
    "    return html.decode(\"gbk\")"
   ]
  },
  {
   "cell_type": "code",
   "execution_count": 3,
   "metadata": {},
   "outputs": [],
   "source": [
    "def search_house_price_by_city(city=\"太仓\", npage=20):\n",
    "    city2en = {\"太仓\":\"tc\", \"昆山\":\"ks\", \"嘉兴\":\"jx\", \"廊坊\":\"lf\", \"合肥\": \"hf\"}\n",
    "    pages = []\n",
    "    for i in range(1,npage + 1):\n",
    "        pages.append(\"https://%s.newhouse.fang.com/house/s/b9%s/?ctm=1.jx.xf_search.page.%i\" % (city2en[city], i, i))\n",
    "    f = open(\"%s.csv\" % city, \"w\", encoding = \"gbk\")\n",
    "    f.write(\"名称,价格,居室,大小,状态,标签,区域,附近学校,地址\\n\")\n",
    "    for one_url in pages:\n",
    "        print(one_url)\n",
    "        html_doc = pasre_hrml(one_url)\n",
    "        soup = BeautifulSoup(html_doc, \"html.parser\", from_encoding=\"utf-8\")\n",
    "        regex = r\"\\d+居\"\n",
    "        regexp = re.compile(regex)\n",
    "        for i in soup.find_all(\"div\", \"nl_con clearfix\")[0].ul.find_all(\"li\"):\n",
    "            # 获取id，如果没有id就不是楼盘\n",
    "            li_id = i.get(\"id\")\n",
    "\n",
    "            if li_id:\n",
    "                status = i.find(\"div\", \"fangyuan\").span.contents[0]\n",
    "                # 只看在售的\n",
    "                if status != \"在售\":\n",
    "                    continue\n",
    "                # price\n",
    "                try:\n",
    "                    price = i.find(\"div\", \"nhouse_price\").span.contents[0].strip()\n",
    "                except:\n",
    "                    price = i.find(\"div\", \"nhouse_price\").i.contents[0].strip()\n",
    "                # 没有价格的不看\n",
    "                if not price.isdigit(): \n",
    "                    continue\n",
    "                name = i.find(\"div\", \"nlcd_name\").a.contents[0].strip()\n",
    "                houses = [x.contents[0] for x in  i.find(\"div\", \"house_type clearfix\").find_all(\"a\")]\n",
    "                house_type = \"/\".join(houses)\n",
    "                pingf = i.find(\"div\", \"house_type clearfix\").contents[-1].strip(\"\\t\")[1:].strip()\n",
    "                address = i.find(\"div\", \"relative_message\").a[\"title\"].strip().replace(\",\", \"_\")\n",
    "                area = address[:2]\n",
    "                status = i.find(\"div\", \"fangyuan\").span.contents[0]\n",
    "                labels = \"/\".join([i.contents[0] if i.get(\"class\") == None else \"\" for i in i.find(\"div\", \"fangyuan\").find_all(\"a\")])\n",
    "                schools1 = [ii.contents[0] if \"∨\" != ii.contents[0] else \"\" for ii in i.find(\"div\", \"fangyuan\").find_all(\"em\", \"fl\")]\n",
    "                schools2 = [ii.contents[0] for ii in i.find(\"div\", \"fangyuan\").find_all(\"span\", \"fl\")]\n",
    "                schools = \"/\".join(schools1 + schools2)\n",
    "                s = \",\".join([name,price,house_type, pingf,status,labels,area,schools,address,\"\\n\"])\n",
    "                f.write(s)\n",
    "    f.close()"
   ]
  },
  {
   "cell_type": "code",
   "execution_count": 4,
   "metadata": {},
   "outputs": [
    {
     "name": "stdout",
     "output_type": "stream",
     "text": [
      "https://tc.newhouse.fang.com/house/s/b91/?ctm=1.jx.xf_search.page.1\n"
     ]
    },
    {
     "name": "stderr",
     "output_type": "stream",
     "text": [
      "C:\\ProgramData\\Anaconda3\\lib\\site-packages\\bs4\\__init__.py:177: UserWarning: You provided Unicode markup but also provided a value for from_encoding. Your from_encoding will be ignored.\n",
      "  warnings.warn(\"You provided Unicode markup but also provided a value for from_encoding. Your from_encoding will be ignored.\")\n"
     ]
    },
    {
     "name": "stdout",
     "output_type": "stream",
     "text": [
      "https://tc.newhouse.fang.com/house/s/b92/?ctm=1.jx.xf_search.page.2\n",
      "https://tc.newhouse.fang.com/house/s/b93/?ctm=1.jx.xf_search.page.3\n",
      "https://tc.newhouse.fang.com/house/s/b94/?ctm=1.jx.xf_search.page.4\n",
      "https://tc.newhouse.fang.com/house/s/b95/?ctm=1.jx.xf_search.page.5\n",
      "https://tc.newhouse.fang.com/house/s/b96/?ctm=1.jx.xf_search.page.6\n",
      "https://tc.newhouse.fang.com/house/s/b97/?ctm=1.jx.xf_search.page.7\n",
      "https://tc.newhouse.fang.com/house/s/b98/?ctm=1.jx.xf_search.page.8\n",
      "https://tc.newhouse.fang.com/house/s/b99/?ctm=1.jx.xf_search.page.9\n",
      "https://tc.newhouse.fang.com/house/s/b910/?ctm=1.jx.xf_search.page.10\n",
      "https://tc.newhouse.fang.com/house/s/b911/?ctm=1.jx.xf_search.page.11\n",
      "https://tc.newhouse.fang.com/house/s/b912/?ctm=1.jx.xf_search.page.12\n",
      "https://tc.newhouse.fang.com/house/s/b913/?ctm=1.jx.xf_search.page.13\n",
      "https://tc.newhouse.fang.com/house/s/b914/?ctm=1.jx.xf_search.page.14\n",
      "https://tc.newhouse.fang.com/house/s/b915/?ctm=1.jx.xf_search.page.15\n",
      "https://tc.newhouse.fang.com/house/s/b916/?ctm=1.jx.xf_search.page.16\n",
      "https://tc.newhouse.fang.com/house/s/b917/?ctm=1.jx.xf_search.page.17\n",
      "https://tc.newhouse.fang.com/house/s/b918/?ctm=1.jx.xf_search.page.18\n",
      "https://tc.newhouse.fang.com/house/s/b919/?ctm=1.jx.xf_search.page.19\n",
      "https://tc.newhouse.fang.com/house/s/b920/?ctm=1.jx.xf_search.page.20\n"
     ]
    }
   ],
   "source": [
    "search_house_price_by_city(city=\"太仓\")"
   ]
  },
  {
   "cell_type": "code",
   "execution_count": 6,
   "metadata": {},
   "outputs": [
    {
     "name": "stdout",
     "output_type": "stream",
     "text": [
      "https://ks.newhouse.fang.com/house/s/b91/?ctm=1.jx.xf_search.page.1\n",
      "https://ks.newhouse.fang.com/house/s/b92/?ctm=1.jx.xf_search.page.2\n",
      "https://ks.newhouse.fang.com/house/s/b93/?ctm=1.jx.xf_search.page.3\n",
      "https://ks.newhouse.fang.com/house/s/b94/?ctm=1.jx.xf_search.page.4\n",
      "https://ks.newhouse.fang.com/house/s/b95/?ctm=1.jx.xf_search.page.5\n",
      "https://ks.newhouse.fang.com/house/s/b96/?ctm=1.jx.xf_search.page.6\n",
      "https://ks.newhouse.fang.com/house/s/b97/?ctm=1.jx.xf_search.page.7\n",
      "https://ks.newhouse.fang.com/house/s/b98/?ctm=1.jx.xf_search.page.8\n",
      "https://ks.newhouse.fang.com/house/s/b99/?ctm=1.jx.xf_search.page.9\n",
      "https://ks.newhouse.fang.com/house/s/b910/?ctm=1.jx.xf_search.page.10\n",
      "https://ks.newhouse.fang.com/house/s/b911/?ctm=1.jx.xf_search.page.11\n",
      "https://ks.newhouse.fang.com/house/s/b912/?ctm=1.jx.xf_search.page.12\n",
      "https://ks.newhouse.fang.com/house/s/b913/?ctm=1.jx.xf_search.page.13\n",
      "https://ks.newhouse.fang.com/house/s/b914/?ctm=1.jx.xf_search.page.14\n",
      "https://ks.newhouse.fang.com/house/s/b915/?ctm=1.jx.xf_search.page.15\n",
      "https://ks.newhouse.fang.com/house/s/b916/?ctm=1.jx.xf_search.page.16\n",
      "https://ks.newhouse.fang.com/house/s/b917/?ctm=1.jx.xf_search.page.17\n",
      "https://ks.newhouse.fang.com/house/s/b918/?ctm=1.jx.xf_search.page.18\n",
      "https://ks.newhouse.fang.com/house/s/b919/?ctm=1.jx.xf_search.page.19\n",
      "https://ks.newhouse.fang.com/house/s/b920/?ctm=1.jx.xf_search.page.20\n"
     ]
    }
   ],
   "source": [
    "search_house_price_by_city(city=\"昆山\")"
   ]
  },
  {
   "cell_type": "code",
   "execution_count": 104,
   "metadata": {},
   "outputs": [
    {
     "name": "stdout",
     "output_type": "stream",
     "text": [
      "https://jx.newhouse.fang.com/house/s/b91/?ctm=1.jx.xf_search.page.1\n",
      "https://jx.newhouse.fang.com/house/s/b92/?ctm=1.jx.xf_search.page.2\n",
      "https://jx.newhouse.fang.com/house/s/b93/?ctm=1.jx.xf_search.page.3\n",
      "https://jx.newhouse.fang.com/house/s/b94/?ctm=1.jx.xf_search.page.4\n",
      "https://jx.newhouse.fang.com/house/s/b95/?ctm=1.jx.xf_search.page.5\n",
      "https://jx.newhouse.fang.com/house/s/b96/?ctm=1.jx.xf_search.page.6\n",
      "https://jx.newhouse.fang.com/house/s/b97/?ctm=1.jx.xf_search.page.7\n",
      "https://jx.newhouse.fang.com/house/s/b98/?ctm=1.jx.xf_search.page.8\n",
      "https://jx.newhouse.fang.com/house/s/b99/?ctm=1.jx.xf_search.page.9\n",
      "https://jx.newhouse.fang.com/house/s/b910/?ctm=1.jx.xf_search.page.10\n",
      "https://jx.newhouse.fang.com/house/s/b911/?ctm=1.jx.xf_search.page.11\n",
      "https://jx.newhouse.fang.com/house/s/b912/?ctm=1.jx.xf_search.page.12\n",
      "https://jx.newhouse.fang.com/house/s/b913/?ctm=1.jx.xf_search.page.13\n",
      "https://jx.newhouse.fang.com/house/s/b914/?ctm=1.jx.xf_search.page.14\n",
      "https://jx.newhouse.fang.com/house/s/b915/?ctm=1.jx.xf_search.page.15\n"
     ]
    }
   ],
   "source": [
    "search_house_price_by_city(city=\"嘉兴\")"
   ]
  },
  {
   "cell_type": "code",
   "execution_count": 12,
   "metadata": {},
   "outputs": [
    {
     "name": "stdout",
     "output_type": "stream",
     "text": [
      "https://hf.newhouse.fang.com/house/s/b91/?ctm=1.jx.xf_search.page.1\n"
     ]
    },
    {
     "name": "stderr",
     "output_type": "stream",
     "text": [
      "C:\\ProgramData\\Anaconda3\\lib\\site-packages\\bs4\\__init__.py:177: UserWarning: You provided Unicode markup but also provided a value for from_encoding. Your from_encoding will be ignored.\n",
      "  warnings.warn(\"You provided Unicode markup but also provided a value for from_encoding. Your from_encoding will be ignored.\")\n"
     ]
    },
    {
     "name": "stdout",
     "output_type": "stream",
     "text": [
      "https://hf.newhouse.fang.com/house/s/b92/?ctm=1.jx.xf_search.page.2\n",
      "https://hf.newhouse.fang.com/house/s/b93/?ctm=1.jx.xf_search.page.3\n",
      "https://hf.newhouse.fang.com/house/s/b94/?ctm=1.jx.xf_search.page.4\n",
      "https://hf.newhouse.fang.com/house/s/b95/?ctm=1.jx.xf_search.page.5\n",
      "https://hf.newhouse.fang.com/house/s/b96/?ctm=1.jx.xf_search.page.6\n",
      "https://hf.newhouse.fang.com/house/s/b97/?ctm=1.jx.xf_search.page.7\n",
      "https://hf.newhouse.fang.com/house/s/b98/?ctm=1.jx.xf_search.page.8\n",
      "https://hf.newhouse.fang.com/house/s/b99/?ctm=1.jx.xf_search.page.9\n",
      "https://hf.newhouse.fang.com/house/s/b910/?ctm=1.jx.xf_search.page.10\n",
      "https://hf.newhouse.fang.com/house/s/b911/?ctm=1.jx.xf_search.page.11\n",
      "https://hf.newhouse.fang.com/house/s/b912/?ctm=1.jx.xf_search.page.12\n",
      "https://hf.newhouse.fang.com/house/s/b913/?ctm=1.jx.xf_search.page.13\n",
      "https://hf.newhouse.fang.com/house/s/b914/?ctm=1.jx.xf_search.page.14\n",
      "https://hf.newhouse.fang.com/house/s/b915/?ctm=1.jx.xf_search.page.15\n",
      "https://hf.newhouse.fang.com/house/s/b916/?ctm=1.jx.xf_search.page.16\n",
      "https://hf.newhouse.fang.com/house/s/b917/?ctm=1.jx.xf_search.page.17\n",
      "https://hf.newhouse.fang.com/house/s/b918/?ctm=1.jx.xf_search.page.18\n",
      "https://hf.newhouse.fang.com/house/s/b919/?ctm=1.jx.xf_search.page.19\n",
      "https://hf.newhouse.fang.com/house/s/b920/?ctm=1.jx.xf_search.page.20\n"
     ]
    }
   ],
   "source": [
    "search_house_price_by_city(city=\"合肥\")"
   ]
  },
  {
   "cell_type": "code",
   "execution_count": null,
   "metadata": {},
   "outputs": [],
   "source": []
  }
 ],
 "metadata": {
  "kernelspec": {
   "display_name": "Python 3",
   "language": "python",
   "name": "python3"
  },
  "language_info": {
   "codemirror_mode": {
    "name": "ipython",
    "version": 3
   },
   "file_extension": ".py",
   "mimetype": "text/x-python",
   "name": "python",
   "nbconvert_exporter": "python",
   "pygments_lexer": "ipython3",
   "version": "3.7.3"
  }
 },
 "nbformat": 4,
 "nbformat_minor": 2
}
